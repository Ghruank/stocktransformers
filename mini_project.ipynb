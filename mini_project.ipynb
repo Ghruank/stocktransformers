{
 "cells": [
  {
   "cell_type": "code",
   "execution_count": 2,
   "metadata": {},
   "outputs": [],
   "source": [
    "import numpy as np\n",
    "import pandas as pd\n",
    "import matplotlib.pyplot as plt\n",
    "from sklearn.preprocessing import MinMaxScaler\n",
    "from keras.models import Sequential\n",
    "from keras.layers import LSTM,Dense\n",
    "from keras.optimizers import Adam\n",
    "from sklearn import metrics"
   ]
  },
  {
   "cell_type": "code",
   "execution_count": 3,
   "metadata": {},
   "outputs": [],
   "source": [
    "data=pd.read_csv(\"monthly_milk_production_1.csv\")"
   ]
  },
  {
   "cell_type": "code",
   "execution_count": 4,
   "metadata": {},
   "outputs": [
    {
     "data": {
      "text/plain": [
       "array([589, 561, 640, 656, 727, 697, 640, 599, 568, 577, 553, 582, 600,\n",
       "       566, 653, 673, 742, 716, 660, 617, 583, 587, 565, 598, 628, 618,\n",
       "       688, 705, 770, 736, 678, 639, 604, 611, 594, 634, 658, 622, 709,\n",
       "       722, 782, 756, 702, 653, 615, 621, 602, 635, 677, 635, 736, 755,\n",
       "       811, 798, 735, 697, 661, 667, 645, 688, 713, 667, 762, 784, 837,\n",
       "       817, 767, 722, 681, 687, 660, 698, 717, 696, 775, 796, 858, 826,\n",
       "       783, 740, 701, 706, 677, 711, 734, 690, 785, 805, 871, 845, 801,\n",
       "       764, 725, 723, 690, 734, 750, 707, 807, 824, 886, 859, 819, 783,\n",
       "       740, 747, 711, 751, 804, 756, 860, 878, 942, 913, 869, 834, 790,\n",
       "       800, 763, 800, 826, 799, 890, 900, 961, 935, 894, 855, 809, 810,\n",
       "       766, 805, 821, 773, 883, 898, 957, 924, 881, 837, 784, 791, 760,\n",
       "       802, 828, 778, 889, 902, 969, 947, 908, 867, 815, 812, 773, 813,\n",
       "       834, 782, 892, 903, 966, 937, 896, 858, 817, 827, 797, 843],\n",
       "      dtype=int64)"
      ]
     },
     "execution_count": 4,
     "metadata": {},
     "output_type": "execute_result"
    }
   ],
   "source": [
    "XY_train=data.Production.values\n",
    "XY_train"
   ]
  },
  {
   "cell_type": "code",
   "execution_count": 5,
   "metadata": {},
   "outputs": [
    {
     "data": {
      "text/plain": [
       "array([[589],\n",
       "       [561],\n",
       "       [640],\n",
       "       [656],\n",
       "       [727],\n",
       "       [697],\n",
       "       [640],\n",
       "       [599],\n",
       "       [568],\n",
       "       [577],\n",
       "       [553],\n",
       "       [582],\n",
       "       [600],\n",
       "       [566],\n",
       "       [653],\n",
       "       [673],\n",
       "       [742],\n",
       "       [716],\n",
       "       [660],\n",
       "       [617],\n",
       "       [583],\n",
       "       [587],\n",
       "       [565],\n",
       "       [598],\n",
       "       [628],\n",
       "       [618],\n",
       "       [688],\n",
       "       [705],\n",
       "       [770],\n",
       "       [736],\n",
       "       [678],\n",
       "       [639],\n",
       "       [604],\n",
       "       [611],\n",
       "       [594],\n",
       "       [634],\n",
       "       [658],\n",
       "       [622],\n",
       "       [709],\n",
       "       [722],\n",
       "       [782],\n",
       "       [756],\n",
       "       [702],\n",
       "       [653],\n",
       "       [615],\n",
       "       [621],\n",
       "       [602],\n",
       "       [635],\n",
       "       [677],\n",
       "       [635],\n",
       "       [736],\n",
       "       [755],\n",
       "       [811],\n",
       "       [798],\n",
       "       [735],\n",
       "       [697],\n",
       "       [661],\n",
       "       [667],\n",
       "       [645],\n",
       "       [688],\n",
       "       [713],\n",
       "       [667],\n",
       "       [762],\n",
       "       [784],\n",
       "       [837],\n",
       "       [817],\n",
       "       [767],\n",
       "       [722],\n",
       "       [681],\n",
       "       [687],\n",
       "       [660],\n",
       "       [698],\n",
       "       [717],\n",
       "       [696],\n",
       "       [775],\n",
       "       [796],\n",
       "       [858],\n",
       "       [826],\n",
       "       [783],\n",
       "       [740],\n",
       "       [701],\n",
       "       [706],\n",
       "       [677],\n",
       "       [711],\n",
       "       [734],\n",
       "       [690],\n",
       "       [785],\n",
       "       [805],\n",
       "       [871],\n",
       "       [845],\n",
       "       [801],\n",
       "       [764],\n",
       "       [725],\n",
       "       [723],\n",
       "       [690],\n",
       "       [734],\n",
       "       [750],\n",
       "       [707],\n",
       "       [807],\n",
       "       [824],\n",
       "       [886],\n",
       "       [859],\n",
       "       [819],\n",
       "       [783],\n",
       "       [740],\n",
       "       [747],\n",
       "       [711],\n",
       "       [751],\n",
       "       [804],\n",
       "       [756],\n",
       "       [860],\n",
       "       [878],\n",
       "       [942],\n",
       "       [913],\n",
       "       [869],\n",
       "       [834],\n",
       "       [790],\n",
       "       [800],\n",
       "       [763],\n",
       "       [800],\n",
       "       [826],\n",
       "       [799],\n",
       "       [890],\n",
       "       [900],\n",
       "       [961],\n",
       "       [935],\n",
       "       [894],\n",
       "       [855],\n",
       "       [809],\n",
       "       [810],\n",
       "       [766],\n",
       "       [805],\n",
       "       [821],\n",
       "       [773],\n",
       "       [883],\n",
       "       [898],\n",
       "       [957],\n",
       "       [924],\n",
       "       [881],\n",
       "       [837],\n",
       "       [784],\n",
       "       [791],\n",
       "       [760],\n",
       "       [802],\n",
       "       [828],\n",
       "       [778],\n",
       "       [889],\n",
       "       [902],\n",
       "       [969],\n",
       "       [947],\n",
       "       [908],\n",
       "       [867],\n",
       "       [815],\n",
       "       [812],\n",
       "       [773],\n",
       "       [813],\n",
       "       [834],\n",
       "       [782],\n",
       "       [892],\n",
       "       [903],\n",
       "       [966],\n",
       "       [937],\n",
       "       [896],\n",
       "       [858],\n",
       "       [817],\n",
       "       [827],\n",
       "       [797],\n",
       "       [843]], dtype=int64)"
      ]
     },
     "execution_count": 5,
     "metadata": {},
     "output_type": "execute_result"
    }
   ],
   "source": [
    "XY_train_reshaped=XY_train.reshape(-1,1)\n",
    "XY_train_reshaped"
   ]
  },
  {
   "cell_type": "code",
   "execution_count": null,
   "metadata": {},
   "outputs": [],
   "source": []
  },
  {
   "cell_type": "code",
   "execution_count": 6,
   "metadata": {},
   "outputs": [
    {
     "name": "stdout",
     "output_type": "stream",
     "text": [
      "[[0.08653846]\n",
      " [0.01923077]\n",
      " [0.20913462]\n",
      " [0.24759615]\n",
      " [0.41826923]\n",
      " [0.34615385]\n",
      " [0.20913462]\n",
      " [0.11057692]\n",
      " [0.03605769]\n",
      " [0.05769231]\n",
      " [0.        ]\n",
      " [0.06971154]\n",
      " [0.11298077]\n",
      " [0.03125   ]\n",
      " [0.24038462]\n",
      " [0.28846154]\n",
      " [0.45432692]\n",
      " [0.39182692]\n",
      " [0.25721154]\n",
      " [0.15384615]\n",
      " [0.07211538]\n",
      " [0.08173077]\n",
      " [0.02884615]\n",
      " [0.10817308]\n",
      " [0.18028846]\n",
      " [0.15625   ]\n",
      " [0.32451923]\n",
      " [0.36538462]\n",
      " [0.52163462]\n",
      " [0.43990385]\n",
      " [0.30048077]\n",
      " [0.20673077]\n",
      " [0.12259615]\n",
      " [0.13942308]\n",
      " [0.09855769]\n",
      " [0.19471154]\n",
      " [0.25240385]\n",
      " [0.16586538]\n",
      " [0.375     ]\n",
      " [0.40625   ]\n",
      " [0.55048077]\n",
      " [0.48798077]\n",
      " [0.35817308]\n",
      " [0.24038462]\n",
      " [0.14903846]\n",
      " [0.16346154]\n",
      " [0.11778846]\n",
      " [0.19711538]\n",
      " [0.29807692]\n",
      " [0.19711538]\n",
      " [0.43990385]\n",
      " [0.48557692]\n",
      " [0.62019231]\n",
      " [0.58894231]\n",
      " [0.4375    ]\n",
      " [0.34615385]\n",
      " [0.25961538]\n",
      " [0.27403846]\n",
      " [0.22115385]\n",
      " [0.32451923]\n",
      " [0.38461538]\n",
      " [0.27403846]\n",
      " [0.50240385]\n",
      " [0.55528846]\n",
      " [0.68269231]\n",
      " [0.63461538]\n",
      " [0.51442308]\n",
      " [0.40625   ]\n",
      " [0.30769231]\n",
      " [0.32211538]\n",
      " [0.25721154]\n",
      " [0.34855769]\n",
      " [0.39423077]\n",
      " [0.34375   ]\n",
      " [0.53365385]\n",
      " [0.58413462]\n",
      " [0.73317308]\n",
      " [0.65625   ]\n",
      " [0.55288462]\n",
      " [0.44951923]\n",
      " [0.35576923]\n",
      " [0.36778846]\n",
      " [0.29807692]\n",
      " [0.37980769]\n",
      " [0.43509615]\n",
      " [0.32932692]\n",
      " [0.55769231]\n",
      " [0.60576923]\n",
      " [0.76442308]\n",
      " [0.70192308]\n",
      " [0.59615385]\n",
      " [0.50721154]\n",
      " [0.41346154]\n",
      " [0.40865385]\n",
      " [0.32932692]\n",
      " [0.43509615]\n",
      " [0.47355769]\n",
      " [0.37019231]\n",
      " [0.61057692]\n",
      " [0.65144231]\n",
      " [0.80048077]\n",
      " [0.73557692]\n",
      " [0.63942308]\n",
      " [0.55288462]\n",
      " [0.44951923]\n",
      " [0.46634615]\n",
      " [0.37980769]\n",
      " [0.47596154]\n",
      " [0.60336538]\n",
      " [0.48798077]\n",
      " [0.73798077]\n",
      " [0.78125   ]\n",
      " [0.93509615]\n",
      " [0.86538462]\n",
      " [0.75961538]\n",
      " [0.67548077]\n",
      " [0.56971154]\n",
      " [0.59375   ]\n",
      " [0.50480769]\n",
      " [0.59375   ]\n",
      " [0.65625   ]\n",
      " [0.59134615]\n",
      " [0.81009615]\n",
      " [0.83413462]\n",
      " [0.98076923]\n",
      " [0.91826923]\n",
      " [0.81971154]\n",
      " [0.72596154]\n",
      " [0.61538462]\n",
      " [0.61778846]\n",
      " [0.51201923]\n",
      " [0.60576923]\n",
      " [0.64423077]\n",
      " [0.52884615]\n",
      " [0.79326923]\n",
      " [0.82932692]\n",
      " [0.97115385]\n",
      " [0.89182692]\n",
      " [0.78846154]\n",
      " [0.68269231]\n",
      " [0.55528846]\n",
      " [0.57211538]\n",
      " [0.49759615]\n",
      " [0.59855769]\n",
      " [0.66105769]\n",
      " [0.54086538]\n",
      " [0.80769231]\n",
      " [0.83894231]\n",
      " [1.        ]\n",
      " [0.94711538]\n",
      " [0.85336538]\n",
      " [0.75480769]\n",
      " [0.62980769]\n",
      " [0.62259615]\n",
      " [0.52884615]\n",
      " [0.625     ]\n",
      " [0.67548077]\n",
      " [0.55048077]\n",
      " [0.81490385]\n",
      " [0.84134615]\n",
      " [0.99278846]\n",
      " [0.92307692]\n",
      " [0.82451923]\n",
      " [0.73317308]\n",
      " [0.63461538]\n",
      " [0.65865385]\n",
      " [0.58653846]\n",
      " [0.69711538]]\n"
     ]
    }
   ],
   "source": [
    "scaler = MinMaxScaler()\n",
    "XY_train_normalized = scaler.fit_transform(XY_train_reshaped)\n",
    "print(XY_train_normalized)"
   ]
  },
  {
   "cell_type": "code",
   "execution_count": 7,
   "metadata": {},
   "outputs": [],
   "source": [
    "x_train=[]\n",
    "y_train=[]\n",
    "for i in range(0,len(XY_train_normalized)-3):\n",
    "    x_train.append(XY_train_normalized[i:i+3])\n",
    "    y_train.append(XY_train_normalized[i+3])"
   ]
  },
  {
   "cell_type": "code",
   "execution_count": 8,
   "metadata": {},
   "outputs": [],
   "source": [
    "x_train=np.array(x_train)\n",
    "y_train=np.array(y_train)"
   ]
  },
  {
   "cell_type": "code",
   "execution_count": 9,
   "metadata": {},
   "outputs": [
    {
     "data": {
      "text/plain": [
       "(165, 3, 1)"
      ]
     },
     "execution_count": 9,
     "metadata": {},
     "output_type": "execute_result"
    }
   ],
   "source": [
    "x_train.shape"
   ]
  },
  {
   "cell_type": "code",
   "execution_count": 10,
   "metadata": {},
   "outputs": [],
   "source": [
    "x_test=x_train.copy()\n",
    "y_test=y_train.copy()"
   ]
  },
  {
   "cell_type": "code",
   "execution_count": 21,
   "metadata": {},
   "outputs": [
    {
     "data": {
      "text/plain": [
       "array([[656.],\n",
       "       [727.],\n",
       "       [697.],\n",
       "       [640.],\n",
       "       [599.],\n",
       "       [568.],\n",
       "       [577.],\n",
       "       [553.],\n",
       "       [582.],\n",
       "       [600.],\n",
       "       [566.],\n",
       "       [653.],\n",
       "       [673.],\n",
       "       [742.],\n",
       "       [716.],\n",
       "       [660.],\n",
       "       [617.],\n",
       "       [583.],\n",
       "       [587.],\n",
       "       [565.],\n",
       "       [598.],\n",
       "       [628.],\n",
       "       [618.],\n",
       "       [688.],\n",
       "       [705.],\n",
       "       [770.],\n",
       "       [736.],\n",
       "       [678.],\n",
       "       [639.],\n",
       "       [604.],\n",
       "       [611.],\n",
       "       [594.],\n",
       "       [634.],\n",
       "       [658.],\n",
       "       [622.],\n",
       "       [709.],\n",
       "       [722.],\n",
       "       [782.],\n",
       "       [756.],\n",
       "       [702.],\n",
       "       [653.],\n",
       "       [615.],\n",
       "       [621.],\n",
       "       [602.],\n",
       "       [635.],\n",
       "       [677.],\n",
       "       [635.],\n",
       "       [736.],\n",
       "       [755.],\n",
       "       [811.],\n",
       "       [798.],\n",
       "       [735.],\n",
       "       [697.],\n",
       "       [661.],\n",
       "       [667.],\n",
       "       [645.],\n",
       "       [688.],\n",
       "       [713.],\n",
       "       [667.],\n",
       "       [762.],\n",
       "       [784.],\n",
       "       [837.],\n",
       "       [817.],\n",
       "       [767.],\n",
       "       [722.],\n",
       "       [681.],\n",
       "       [687.],\n",
       "       [660.],\n",
       "       [698.],\n",
       "       [717.],\n",
       "       [696.],\n",
       "       [775.],\n",
       "       [796.],\n",
       "       [858.],\n",
       "       [826.],\n",
       "       [783.],\n",
       "       [740.],\n",
       "       [701.],\n",
       "       [706.],\n",
       "       [677.],\n",
       "       [711.],\n",
       "       [734.],\n",
       "       [690.],\n",
       "       [785.],\n",
       "       [805.],\n",
       "       [871.],\n",
       "       [845.],\n",
       "       [801.],\n",
       "       [764.],\n",
       "       [725.],\n",
       "       [723.],\n",
       "       [690.],\n",
       "       [734.],\n",
       "       [750.],\n",
       "       [707.],\n",
       "       [807.],\n",
       "       [824.],\n",
       "       [886.],\n",
       "       [859.],\n",
       "       [819.],\n",
       "       [783.],\n",
       "       [740.],\n",
       "       [747.],\n",
       "       [711.],\n",
       "       [751.],\n",
       "       [804.],\n",
       "       [756.],\n",
       "       [860.],\n",
       "       [878.],\n",
       "       [942.],\n",
       "       [913.],\n",
       "       [869.],\n",
       "       [834.],\n",
       "       [790.],\n",
       "       [800.],\n",
       "       [763.],\n",
       "       [800.],\n",
       "       [826.],\n",
       "       [799.],\n",
       "       [890.],\n",
       "       [900.],\n",
       "       [961.],\n",
       "       [935.],\n",
       "       [894.],\n",
       "       [855.],\n",
       "       [809.],\n",
       "       [810.],\n",
       "       [766.],\n",
       "       [805.],\n",
       "       [821.],\n",
       "       [773.],\n",
       "       [883.],\n",
       "       [898.],\n",
       "       [957.],\n",
       "       [924.],\n",
       "       [881.],\n",
       "       [837.],\n",
       "       [784.],\n",
       "       [791.],\n",
       "       [760.],\n",
       "       [802.],\n",
       "       [828.],\n",
       "       [778.],\n",
       "       [889.],\n",
       "       [902.],\n",
       "       [969.],\n",
       "       [947.],\n",
       "       [908.],\n",
       "       [867.],\n",
       "       [815.],\n",
       "       [812.],\n",
       "       [773.],\n",
       "       [813.],\n",
       "       [834.],\n",
       "       [782.],\n",
       "       [892.],\n",
       "       [903.],\n",
       "       [966.],\n",
       "       [937.],\n",
       "       [896.],\n",
       "       [858.],\n",
       "       [817.],\n",
       "       [827.],\n",
       "       [797.],\n",
       "       [843.]])"
      ]
     },
     "execution_count": 21,
     "metadata": {},
     "output_type": "execute_result"
    }
   ],
   "source": [
    "y_test"
   ]
  },
  {
   "cell_type": "code",
   "execution_count": 12,
   "metadata": {},
   "outputs": [
    {
     "name": "stderr",
     "output_type": "stream",
     "text": [
      "c:\\Users\\Yashvi\\anaconda3\\Lib\\site-packages\\keras\\src\\layers\\rnn\\rnn.py:204: UserWarning: Do not pass an `input_shape`/`input_dim` argument to a layer. When using Sequential models, prefer using an `Input(shape)` object as the first layer in the model instead.\n",
      "  super().__init__(**kwargs)\n"
     ]
    },
    {
     "name": "stdout",
     "output_type": "stream",
     "text": [
      "Epoch 1/30\n",
      "\u001b[1m83/83\u001b[0m \u001b[32m━━━━━━━━━━━━━━━━━━━━\u001b[0m\u001b[37m\u001b[0m \u001b[1m4s\u001b[0m 3ms/step - loss: 0.2003\n",
      "Epoch 2/30\n",
      "\u001b[1m83/83\u001b[0m \u001b[32m━━━━━━━━━━━━━━━━━━━━\u001b[0m\u001b[37m\u001b[0m \u001b[1m0s\u001b[0m 3ms/step - loss: 0.0334 \n",
      "Epoch 3/30\n",
      "\u001b[1m83/83\u001b[0m \u001b[32m━━━━━━━━━━━━━━━━━━━━\u001b[0m\u001b[37m\u001b[0m \u001b[1m0s\u001b[0m 3ms/step - loss: 0.0288\n",
      "Epoch 4/30\n",
      "\u001b[1m83/83\u001b[0m \u001b[32m━━━━━━━━━━━━━━━━━━━━\u001b[0m\u001b[37m\u001b[0m \u001b[1m0s\u001b[0m 3ms/step - loss: 0.0257\n",
      "Epoch 5/30\n",
      "\u001b[1m83/83\u001b[0m \u001b[32m━━━━━━━━━━━━━━━━━━━━\u001b[0m\u001b[37m\u001b[0m \u001b[1m0s\u001b[0m 3ms/step - loss: 0.0256\n",
      "Epoch 6/30\n",
      "\u001b[1m83/83\u001b[0m \u001b[32m━━━━━━━━━━━━━━━━━━━━\u001b[0m\u001b[37m\u001b[0m \u001b[1m0s\u001b[0m 3ms/step - loss: 0.0278\n",
      "Epoch 7/30\n",
      "\u001b[1m83/83\u001b[0m \u001b[32m━━━━━━━━━━━━━━━━━━━━\u001b[0m\u001b[37m\u001b[0m \u001b[1m0s\u001b[0m 3ms/step - loss: 0.0255\n",
      "Epoch 8/30\n",
      "\u001b[1m83/83\u001b[0m \u001b[32m━━━━━━━━━━━━━━━━━━━━\u001b[0m\u001b[37m\u001b[0m \u001b[1m0s\u001b[0m 3ms/step - loss: 0.0248\n",
      "Epoch 9/30\n",
      "\u001b[1m83/83\u001b[0m \u001b[32m━━━━━━━━━━━━━━━━━━━━\u001b[0m\u001b[37m\u001b[0m \u001b[1m0s\u001b[0m 3ms/step - loss: 0.0235\n",
      "Epoch 10/30\n",
      "\u001b[1m83/83\u001b[0m \u001b[32m━━━━━━━━━━━━━━━━━━━━\u001b[0m\u001b[37m\u001b[0m \u001b[1m0s\u001b[0m 3ms/step - loss: 0.0222\n",
      "Epoch 11/30\n",
      "\u001b[1m83/83\u001b[0m \u001b[32m━━━━━━━━━━━━━━━━━━━━\u001b[0m\u001b[37m\u001b[0m \u001b[1m0s\u001b[0m 3ms/step - loss: 0.0204\n",
      "Epoch 12/30\n",
      "\u001b[1m83/83\u001b[0m \u001b[32m━━━━━━━━━━━━━━━━━━━━\u001b[0m\u001b[37m\u001b[0m \u001b[1m0s\u001b[0m 3ms/step - loss: 0.0177\n",
      "Epoch 13/30\n",
      "\u001b[1m83/83\u001b[0m \u001b[32m━━━━━━━━━━━━━━━━━━━━\u001b[0m\u001b[37m\u001b[0m \u001b[1m0s\u001b[0m 3ms/step - loss: 0.0151\n",
      "Epoch 14/30\n",
      "\u001b[1m83/83\u001b[0m \u001b[32m━━━━━━━━━━━━━━━━━━━━\u001b[0m\u001b[37m\u001b[0m \u001b[1m0s\u001b[0m 3ms/step - loss: 0.0164\n",
      "Epoch 15/30\n",
      "\u001b[1m83/83\u001b[0m \u001b[32m━━━━━━━━━━━━━━━━━━━━\u001b[0m\u001b[37m\u001b[0m \u001b[1m0s\u001b[0m 3ms/step - loss: 0.0147\n",
      "Epoch 16/30\n",
      "\u001b[1m83/83\u001b[0m \u001b[32m━━━━━━━━━━━━━━━━━━━━\u001b[0m\u001b[37m\u001b[0m \u001b[1m0s\u001b[0m 3ms/step - loss: 0.0127\n",
      "Epoch 17/30\n",
      "\u001b[1m83/83\u001b[0m \u001b[32m━━━━━━━━━━━━━━━━━━━━\u001b[0m\u001b[37m\u001b[0m \u001b[1m0s\u001b[0m 3ms/step - loss: 0.0121\n",
      "Epoch 18/30\n",
      "\u001b[1m83/83\u001b[0m \u001b[32m━━━━━━━━━━━━━━━━━━━━\u001b[0m\u001b[37m\u001b[0m \u001b[1m0s\u001b[0m 3ms/step - loss: 0.0117\n",
      "Epoch 19/30\n",
      "\u001b[1m83/83\u001b[0m \u001b[32m━━━━━━━━━━━━━━━━━━━━\u001b[0m\u001b[37m\u001b[0m \u001b[1m0s\u001b[0m 3ms/step - loss: 0.0114\n",
      "Epoch 20/30\n",
      "\u001b[1m83/83\u001b[0m \u001b[32m━━━━━━━━━━━━━━━━━━━━\u001b[0m\u001b[37m\u001b[0m \u001b[1m0s\u001b[0m 3ms/step - loss: 0.0129\n",
      "Epoch 21/30\n",
      "\u001b[1m83/83\u001b[0m \u001b[32m━━━━━━━━━━━━━━━━━━━━\u001b[0m\u001b[37m\u001b[0m \u001b[1m0s\u001b[0m 3ms/step - loss: 0.0122 \n",
      "Epoch 22/30\n",
      "\u001b[1m83/83\u001b[0m \u001b[32m━━━━━━━━━━━━━━━━━━━━\u001b[0m\u001b[37m\u001b[0m \u001b[1m0s\u001b[0m 3ms/step - loss: 0.0106\n",
      "Epoch 23/30\n",
      "\u001b[1m83/83\u001b[0m \u001b[32m━━━━━━━━━━━━━━━━━━━━\u001b[0m\u001b[37m\u001b[0m \u001b[1m0s\u001b[0m 3ms/step - loss: 0.0120\n",
      "Epoch 24/30\n",
      "\u001b[1m83/83\u001b[0m \u001b[32m━━━━━━━━━━━━━━━━━━━━\u001b[0m\u001b[37m\u001b[0m \u001b[1m0s\u001b[0m 3ms/step - loss: 0.0106\n",
      "Epoch 25/30\n",
      "\u001b[1m83/83\u001b[0m \u001b[32m━━━━━━━━━━━━━━━━━━━━\u001b[0m\u001b[37m\u001b[0m \u001b[1m0s\u001b[0m 3ms/step - loss: 0.0117\n",
      "Epoch 26/30\n",
      "\u001b[1m83/83\u001b[0m \u001b[32m━━━━━━━━━━━━━━━━━━━━\u001b[0m\u001b[37m\u001b[0m \u001b[1m0s\u001b[0m 3ms/step - loss: 0.0103\n",
      "Epoch 27/30\n",
      "\u001b[1m83/83\u001b[0m \u001b[32m━━━━━━━━━━━━━━━━━━━━\u001b[0m\u001b[37m\u001b[0m \u001b[1m0s\u001b[0m 3ms/step - loss: 0.0122\n",
      "Epoch 28/30\n",
      "\u001b[1m83/83\u001b[0m \u001b[32m━━━━━━━━━━━━━━━━━━━━\u001b[0m\u001b[37m\u001b[0m \u001b[1m0s\u001b[0m 3ms/step - loss: 0.0111\n",
      "Epoch 29/30\n",
      "\u001b[1m83/83\u001b[0m \u001b[32m━━━━━━━━━━━━━━━━━━━━\u001b[0m\u001b[37m\u001b[0m \u001b[1m0s\u001b[0m 3ms/step - loss: 0.0126\n",
      "Epoch 30/30\n",
      "\u001b[1m83/83\u001b[0m \u001b[32m━━━━━━━━━━━━━━━━━━━━\u001b[0m\u001b[37m\u001b[0m \u001b[1m0s\u001b[0m 3ms/step - loss: 0.0098\n"
     ]
    }
   ],
   "source": [
    "model=Sequential()\n",
    "model.add(LSTM(50,return_sequences=True,input_shape = (x_train.shape[1],1),activation='relu'))\n",
    "model.add(LSTM(50,return_sequences=False,activation='relu'))\n",
    "model.add(Dense(1))\n",
    "model.compile(optimizer=Adam(learning_rate=0.001), loss='mean_squared_error')\n",
    "history=model.fit(x_train,y_train, batch_size = 2,epochs = 30)"
   ]
  },
  {
   "cell_type": "code",
   "execution_count": 13,
   "metadata": {},
   "outputs": [
    {
     "data": {
      "text/html": [
       "<pre style=\"white-space:pre;overflow-x:auto;line-height:normal;font-family:Menlo,'DejaVu Sans Mono',consolas,'Courier New',monospace\"><span style=\"font-weight: bold\">Model: \"sequential\"</span>\n",
       "</pre>\n"
      ],
      "text/plain": [
       "\u001b[1mModel: \"sequential\"\u001b[0m\n"
      ]
     },
     "metadata": {},
     "output_type": "display_data"
    },
    {
     "data": {
      "text/html": [
       "<pre style=\"white-space:pre;overflow-x:auto;line-height:normal;font-family:Menlo,'DejaVu Sans Mono',consolas,'Courier New',monospace\">┏━━━━━━━━━━━━━━━━━━━━━━━━━━━━━━━━━┳━━━━━━━━━━━━━━━━━━━━━━━━┳━━━━━━━━━━━━━━━┓\n",
       "┃<span style=\"font-weight: bold\"> Layer (type)                    </span>┃<span style=\"font-weight: bold\"> Output Shape           </span>┃<span style=\"font-weight: bold\">       Param # </span>┃\n",
       "┡━━━━━━━━━━━━━━━━━━━━━━━━━━━━━━━━━╇━━━━━━━━━━━━━━━━━━━━━━━━╇━━━━━━━━━━━━━━━┩\n",
       "│ lstm (<span style=\"color: #0087ff; text-decoration-color: #0087ff\">LSTM</span>)                     │ (<span style=\"color: #00d7ff; text-decoration-color: #00d7ff\">None</span>, <span style=\"color: #00af00; text-decoration-color: #00af00\">3</span>, <span style=\"color: #00af00; text-decoration-color: #00af00\">50</span>)          │        <span style=\"color: #00af00; text-decoration-color: #00af00\">10,400</span> │\n",
       "├─────────────────────────────────┼────────────────────────┼───────────────┤\n",
       "│ lstm_1 (<span style=\"color: #0087ff; text-decoration-color: #0087ff\">LSTM</span>)                   │ (<span style=\"color: #00d7ff; text-decoration-color: #00d7ff\">None</span>, <span style=\"color: #00af00; text-decoration-color: #00af00\">50</span>)             │        <span style=\"color: #00af00; text-decoration-color: #00af00\">20,200</span> │\n",
       "├─────────────────────────────────┼────────────────────────┼───────────────┤\n",
       "│ dense (<span style=\"color: #0087ff; text-decoration-color: #0087ff\">Dense</span>)                   │ (<span style=\"color: #00d7ff; text-decoration-color: #00d7ff\">None</span>, <span style=\"color: #00af00; text-decoration-color: #00af00\">1</span>)              │            <span style=\"color: #00af00; text-decoration-color: #00af00\">51</span> │\n",
       "└─────────────────────────────────┴────────────────────────┴───────────────┘\n",
       "</pre>\n"
      ],
      "text/plain": [
       "┏━━━━━━━━━━━━━━━━━━━━━━━━━━━━━━━━━┳━━━━━━━━━━━━━━━━━━━━━━━━┳━━━━━━━━━━━━━━━┓\n",
       "┃\u001b[1m \u001b[0m\u001b[1mLayer (type)                   \u001b[0m\u001b[1m \u001b[0m┃\u001b[1m \u001b[0m\u001b[1mOutput Shape          \u001b[0m\u001b[1m \u001b[0m┃\u001b[1m \u001b[0m\u001b[1m      Param #\u001b[0m\u001b[1m \u001b[0m┃\n",
       "┡━━━━━━━━━━━━━━━━━━━━━━━━━━━━━━━━━╇━━━━━━━━━━━━━━━━━━━━━━━━╇━━━━━━━━━━━━━━━┩\n",
       "│ lstm (\u001b[38;5;33mLSTM\u001b[0m)                     │ (\u001b[38;5;45mNone\u001b[0m, \u001b[38;5;34m3\u001b[0m, \u001b[38;5;34m50\u001b[0m)          │        \u001b[38;5;34m10,400\u001b[0m │\n",
       "├─────────────────────────────────┼────────────────────────┼───────────────┤\n",
       "│ lstm_1 (\u001b[38;5;33mLSTM\u001b[0m)                   │ (\u001b[38;5;45mNone\u001b[0m, \u001b[38;5;34m50\u001b[0m)             │        \u001b[38;5;34m20,200\u001b[0m │\n",
       "├─────────────────────────────────┼────────────────────────┼───────────────┤\n",
       "│ dense (\u001b[38;5;33mDense\u001b[0m)                   │ (\u001b[38;5;45mNone\u001b[0m, \u001b[38;5;34m1\u001b[0m)              │            \u001b[38;5;34m51\u001b[0m │\n",
       "└─────────────────────────────────┴────────────────────────┴───────────────┘\n"
      ]
     },
     "metadata": {},
     "output_type": "display_data"
    },
    {
     "data": {
      "text/html": [
       "<pre style=\"white-space:pre;overflow-x:auto;line-height:normal;font-family:Menlo,'DejaVu Sans Mono',consolas,'Courier New',monospace\"><span style=\"font-weight: bold\"> Total params: </span><span style=\"color: #00af00; text-decoration-color: #00af00\">91,955</span> (359.20 KB)\n",
       "</pre>\n"
      ],
      "text/plain": [
       "\u001b[1m Total params: \u001b[0m\u001b[38;5;34m91,955\u001b[0m (359.20 KB)\n"
      ]
     },
     "metadata": {},
     "output_type": "display_data"
    },
    {
     "data": {
      "text/html": [
       "<pre style=\"white-space:pre;overflow-x:auto;line-height:normal;font-family:Menlo,'DejaVu Sans Mono',consolas,'Courier New',monospace\"><span style=\"font-weight: bold\"> Trainable params: </span><span style=\"color: #00af00; text-decoration-color: #00af00\">30,651</span> (119.73 KB)\n",
       "</pre>\n"
      ],
      "text/plain": [
       "\u001b[1m Trainable params: \u001b[0m\u001b[38;5;34m30,651\u001b[0m (119.73 KB)\n"
      ]
     },
     "metadata": {},
     "output_type": "display_data"
    },
    {
     "data": {
      "text/html": [
       "<pre style=\"white-space:pre;overflow-x:auto;line-height:normal;font-family:Menlo,'DejaVu Sans Mono',consolas,'Courier New',monospace\"><span style=\"font-weight: bold\"> Non-trainable params: </span><span style=\"color: #00af00; text-decoration-color: #00af00\">0</span> (0.00 B)\n",
       "</pre>\n"
      ],
      "text/plain": [
       "\u001b[1m Non-trainable params: \u001b[0m\u001b[38;5;34m0\u001b[0m (0.00 B)\n"
      ]
     },
     "metadata": {},
     "output_type": "display_data"
    },
    {
     "data": {
      "text/html": [
       "<pre style=\"white-space:pre;overflow-x:auto;line-height:normal;font-family:Menlo,'DejaVu Sans Mono',consolas,'Courier New',monospace\"><span style=\"font-weight: bold\"> Optimizer params: </span><span style=\"color: #00af00; text-decoration-color: #00af00\">61,304</span> (239.47 KB)\n",
       "</pre>\n"
      ],
      "text/plain": [
       "\u001b[1m Optimizer params: \u001b[0m\u001b[38;5;34m61,304\u001b[0m (239.47 KB)\n"
      ]
     },
     "metadata": {},
     "output_type": "display_data"
    }
   ],
   "source": [
    "model.summary()"
   ]
  },
  {
   "cell_type": "code",
   "execution_count": 14,
   "metadata": {},
   "outputs": [
    {
     "name": "stdout",
     "output_type": "stream",
     "text": [
      "\u001b[1m6/6\u001b[0m \u001b[32m━━━━━━━━━━━━━━━━━━━━\u001b[0m\u001b[37m\u001b[0m \u001b[1m1s\u001b[0m 56ms/step\n"
     ]
    }
   ],
   "source": [
    "y_pred_normalized=model.predict(x_test)\n",
    "y_pred=scaler.inverse_transform(y_pred_normalized)\n"
   ]
  },
  {
   "cell_type": "code",
   "execution_count": 15,
   "metadata": {},
   "outputs": [],
   "source": [
    "y_test=scaler.inverse_transform(y_test)"
   ]
  },
  {
   "cell_type": "code",
   "execution_count": 16,
   "metadata": {},
   "outputs": [],
   "source": [
    "y_m=data['Date'].str.split('-',expand=True)\n",
    "data[['Year','Month']]=y_m"
   ]
  },
  {
   "cell_type": "code",
   "execution_count": 17,
   "metadata": {},
   "outputs": [
    {
     "data": {
      "image/png": "[encoded data removed]",
      "text/plain": [
       "<Figure size 1200x600 with 1 Axes>"
      ]
     },
     "metadata": {},
     "output_type": "display_data"
    }
   ],
   "source": [
    "plt.figure(figsize=(12, 6))\n",
    "plt.plot(data.Date,data.Production, label = \"Data\", color = \"b\")\n",
    "plt.plot(data.Date[3:],y_pred, label = \"Predicted\", color = \"r\")\n",
    "plt.xlabel(\"Years\")\n",
    "plt.ylabel(\"Milk Production qty\")\n",
    "plt.title(\"Model visualization\")\n",
    "plt.legend()\n",
    "date_ticks = data.Date[::12] \n",
    "date_labels = data.Year[::12]  \n",
    "plt.xticks(ticks=date_ticks, labels=date_labels, rotation=45)\n",
    "\n",
    "plt.show()"
   ]
  },
  {
   "cell_type": "code",
   "execution_count": 18,
   "metadata": {},
   "outputs": [
    {
     "data": {
      "image/png": "[encoded data removed]",
      "text/plain": [
       "<Figure size 1200x600 with 1 Axes>"
      ]
     },
     "metadata": {},
     "output_type": "display_data"
    }
   ],
   "source": [
    "plt.figure(figsize=(12, 6))\n",
    "plt.plot(history.history['loss'], label='Training Loss')\n",
    "plt.title('Model Loss')\n",
    "plt.xlabel('Epoch')\n",
    "plt.ylabel('MSE loss')\n",
    "plt.legend()\n",
    "plt.show()"
   ]
  },
  {
   "cell_type": "code",
   "execution_count": 19,
   "metadata": {},
   "outputs": [
    {
     "name": "stdout",
     "output_type": "stream",
     "text": [
      "Root Mean Squared Error (RMSE): 43.12492193441435\n",
      "R2 score is 0.8156929436815497\n"
     ]
    }
   ],
   "source": [
    "from sklearn.metrics import mean_absolute_error, mean_squared_error, r2_score\n",
    "\n",
    "rmse = np.sqrt(mean_squared_error(y_test, y_pred))\n",
    "print(f\"Root Mean Squared Error (RMSE): {rmse}\")\n",
    "\n",
    "\n",
    "r2 = r2_score(y_test, y_pred)\n",
    "print(f\"R2 score is {r2}\")"
   ]
  },
  {
   "cell_type": "code",
   "execution_count": null,
   "metadata": {},
   "outputs": [],
   "source": []
  }
 ],
 "metadata": {
  "kernelspec": {
   "display_name": "base",
   "language": "python",
   "name": "python3"
  },
  "language_info": {
   "codemirror_mode": {
    "name": "ipython",
    "version": 3
   },
   "file_extension": ".py",
   "mimetype": "text/x-python",
   "name": "python",
   "nbconvert_exporter": "python",
   "pygments_lexer": "ipython3",
   "version": "3.11.3"
  }
 },
 "nbformat": 4,
 "nbformat_minor": 2
}
